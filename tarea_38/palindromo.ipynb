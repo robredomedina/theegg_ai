{
 "cells": [
  {
   "cell_type": "markdown",
   "metadata": {},
   "source": [
    "# Tarea 3.8: Palíndromo\n",
    "\n",
    "## Enunciado\n",
    "\n",
    "Un entero se dice que es un palíndromo si es igual al número que se obtiene al invertir el orden de sus cifras. Por ejemplo, 79197 y 324423 son palíndromos. En esta tarea se le dará un entero N, 1 <= N <= 1.000.000. Usted debe encontrar el menor entero M tal que M <= N que es primo y M es un palíndromo N.\n",
    "\n",
    "Por ejemplo, si N es 31, entonces la respuesta es 101.\n",
    "\n",
    "Formato de entrada:\n",
    "Un solo entero N, (1 <= N <= 1.000.000), en una sola línea.\n",
    "\n",
    "Formato de salida:\n",
    "Su salida debe consistir en un solo número entero, el más pequeño palíndromo primo mayor que o igual a N."
   ]
  },
  {
   "cell_type": "markdown",
   "metadata": {},
   "source": [
    "#### Diagrama de flujos\n",
    "![image](Palindromo.png)"
   ]
  },
  {
   "cell_type": "code",
   "execution_count": 26,
   "metadata": {},
   "outputs": [
    {
     "name": "stdout",
     "output_type": "stream",
     "text": [
      "Introduzca un numero entre 1 y 1.000.000\n",
      "777\n"
     ]
    }
   ],
   "source": [
    "import sys\n",
    "\n",
    "print(\"Introduzca un numero entre 1 y 1.000.000\")\n",
    "num = input()\n",
    "try:     \n",
    "    num = int(num)\n",
    "except:\n",
    "    print(\"Debe ser un número\")\n",
    "\n",
    "assert(num >= 1 and num < 1000000), \"Number must be >=1 and < 1000000\""
   ]
  },
  {
   "cell_type": "code",
   "execution_count": 27,
   "metadata": {},
   "outputs": [],
   "source": [
    "def check_primo(num):\n",
    "    for i in range(2,round(num/2)+1):\n",
    "        if num%i == 0:\n",
    "            return False\n",
    "        else:\n",
    "            continue\n",
    "    return True"
   ]
  },
  {
   "cell_type": "code",
   "execution_count": 28,
   "metadata": {},
   "outputs": [],
   "source": [
    "def check_palindromo(num):\n",
    "    list_num = list(num)\n",
    "    reversed_num = list(num)\n",
    "    reversed_num.reverse()\n",
    "    return list_num == reversed_num"
   ]
  },
  {
   "cell_type": "code",
   "execution_count": 29,
   "metadata": {},
   "outputs": [
    {
     "name": "stdout",
     "output_type": "stream",
     "text": [
      "787\n"
     ]
    }
   ],
   "source": [
    "while True:\n",
    "    if  check_palindromo(str(num)) and check_primo(num):\n",
    "        print(num)\n",
    "        break\n",
    "    num = num +1 "
   ]
  },
  {
   "cell_type": "code",
   "execution_count": null,
   "metadata": {},
   "outputs": [],
   "source": []
  }
 ],
 "metadata": {
  "kernelspec": {
   "display_name": "Python 3",
   "language": "python",
   "name": "python3"
  },
  "language_info": {
   "codemirror_mode": {
    "name": "ipython",
    "version": 3
   },
   "file_extension": ".py",
   "mimetype": "text/x-python",
   "name": "python",
   "nbconvert_exporter": "python",
   "pygments_lexer": "ipython3",
   "version": "3.7.6"
  }
 },
 "nbformat": 4,
 "nbformat_minor": 4
}
