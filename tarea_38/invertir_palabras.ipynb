{
 "cells": [
  {
   "cell_type": "markdown",
   "metadata": {},
   "source": [
    "# Tarea 3.8: Invertir palabras\n",
    "## Enunciado\n",
    "Dada una serie de palabras separadas por espacios, escribir la frase formada por las mismas palabras en orden inverso. Cada palabra estará formada exclusivamente por letras, y existirá exactamente un espacio entre cada pareja de palabras. La salida debe ser \"Case #\" seguido del número de caso, de un símbolo de \"dos puntos\", de un espacio en blanco y de la frase invertida."
   ]
  },
  {
   "cell_type": "markdown",
   "metadata": {},
   "source": [
    "## Diagrama de flujos\n",
    "![image](invertir_palabras.png)"
   ]
  },
  {
   "cell_type": "code",
   "execution_count": 1,
   "metadata": {},
   "outputs": [
    {
     "name": "stdout",
     "output_type": "stream",
     "text": [
      "Cuántas frases se van a analizar?\n",
      "3\n",
      "3\n"
     ]
    }
   ],
   "source": [
    "print(\"Cuántas frases se van a analizar?\")\n",
    "numero_frases = input()\n",
    "print(numero_frases)"
   ]
  },
  {
   "cell_type": "code",
   "execution_count": 2,
   "metadata": {},
   "outputs": [
    {
     "name": "stdout",
     "output_type": "stream",
     "text": [
      "Introduzca la frase 1\n",
      "Ha explotado una bomba\n",
      "Introduzca la frase 2\n",
      "esta tarde no puedo jugar\n",
      "Introduzca la frase 3\n",
      "me duele la espalda\n"
     ]
    }
   ],
   "source": [
    "frases = []\n",
    "\n",
    "for i in range(int(numero_frases)):\n",
    "    print(\"Introduzca la frase \" + str(i+1))\n",
    "    frases.append(input())\n",
    "    "
   ]
  },
  {
   "cell_type": "code",
   "execution_count": 3,
   "metadata": {},
   "outputs": [],
   "source": [
    "def separar_en_palabras(frases):\n",
    "    frases_separadas = []\n",
    "    for frase in frases:\n",
    "        frase = frase.split(' ')\n",
    "        palabras = []\n",
    "        for palabra in frase:\n",
    "            palabras.append(palabra)\n",
    "        frases_separadas.append(palabras)\n",
    "    return frases_separadas"
   ]
  },
  {
   "cell_type": "code",
   "execution_count": 8,
   "metadata": {},
   "outputs": [],
   "source": [
    "def invertir_frases(frases):\n",
    "    j = 1\n",
    "    for frase in frases:\n",
    "        invertida = []\n",
    "        for i in range(len(frase)-1, -1, -1):\n",
    "            invertida.append(frase[i])\n",
    "        print('Case #' + str(j) + ': ' + ' '.join(invertida))\n",
    "        j += 1"
   ]
  },
  {
   "cell_type": "code",
   "execution_count": 9,
   "metadata": {},
   "outputs": [
    {
     "name": "stdout",
     "output_type": "stream",
     "text": [
      "Case #1: bomba una explotado Ha\n",
      "Case #2: jugar puedo no tarde esta\n",
      "Case #3: espalda la duele me\n"
     ]
    }
   ],
   "source": [
    "frases_separadas = separar_en_palabras(frases)\n",
    "invertir_frases(frases_separadas)"
   ]
  },
  {
   "cell_type": "code",
   "execution_count": null,
   "metadata": {},
   "outputs": [],
   "source": []
  }
 ],
 "metadata": {
  "kernelspec": {
   "display_name": "Python 3",
   "language": "python",
   "name": "python3"
  },
  "language_info": {
   "codemirror_mode": {
    "name": "ipython",
    "version": 3
   },
   "file_extension": ".py",
   "mimetype": "text/x-python",
   "name": "python",
   "nbconvert_exporter": "python",
   "pygments_lexer": "ipython3",
   "version": "3.7.6"
  }
 },
 "nbformat": 4,
 "nbformat_minor": 4
}
