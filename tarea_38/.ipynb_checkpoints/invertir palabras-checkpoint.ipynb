{
 "cells": [
  {
   "cell_type": "code",
   "execution_count": null,
   "metadata": {},
   "outputs": [],
   "source": [
    "print(\"Cuántas frases se van a analizar?\")\n",
    "numero_frases = input()\n",
    "print(numero_frases)"
   ]
  },
  {
   "cell_type": "code",
   "execution_count": null,
   "metadata": {},
   "outputs": [],
   "source": [
    "frases = []\n",
    "\n",
    "for i in range(int(numero_frases)):\n",
    "    print(\"Introduzca la frase \" + str(i+1))\n",
    "    frases.append(input())\n",
    "    "
   ]
  },
  {
   "cell_type": "code",
   "execution_count": null,
   "metadata": {},
   "outputs": [],
   "source": [
    "def separar_en_palabras(frases):\n",
    "    frases_separadas = []\n",
    "    for frase in frases:\n",
    "        frase = frase.split(' ')\n",
    "        palabras = []\n",
    "        for palabra in frase:\n",
    "            palabras.append(palabra)\n",
    "        frases_separadas.append(palabras)\n",
    "    return frases_separadas"
   ]
  },
  {
   "cell_type": "code",
   "execution_count": null,
   "metadata": {},
   "outputs": [],
   "source": [
    "def invertir_frases(frases):\n",
    "    for frase in frases:\n",
    "        invertida = []\n",
    "        for i in range(len(frase)-1, -1, -1):\n",
    "            invertida.append(frase[i])\n",
    "        print('Case #' + str(len(frase)-i) + ': ' + ' '.join(invertida))"
   ]
  },
  {
   "cell_type": "code",
   "execution_count": null,
   "metadata": {},
   "outputs": [],
   "source": [
    "frases_separadas = separar_en_palabras(frases)\n",
    "invertir_frases(frases_separadas)"
   ]
  },
  {
   "cell_type": "code",
   "execution_count": null,
   "metadata": {},
   "outputs": [],
   "source": []
  }
 ],
 "metadata": {
  "kernelspec": {
   "display_name": "Python 3",
   "language": "python",
   "name": "python3"
  },
  "language_info": {
   "codemirror_mode": {
    "name": "ipython",
    "version": 3
   },
   "file_extension": ".py",
   "mimetype": "text/x-python",
   "name": "python",
   "nbconvert_exporter": "python",
   "pygments_lexer": "ipython3",
   "version": "3.7.6"
  }
 },
 "nbformat": 4,
 "nbformat_minor": 4
}
