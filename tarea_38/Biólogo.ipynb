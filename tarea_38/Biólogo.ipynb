{
 "cells": [
  {
   "cell_type": "markdown",
   "metadata": {},
   "source": [
    "# Tarea 3.8: El biólogo\n",
    "\n",
    "## Enunciado\n",
    "\n",
    "Eres un biólogo que examina secuencias de ADN de formas de vida diferentes. Se te darán dos secuencias de ADN, y el objetivo es encontrar el conjunto ordenado de bases adyacentes de mayor tamaño que es común en ambos ADNs.\n",
    "\n",
    "Las secuencias de ADN se darán como conjuntos ordenados de bases de nucleótidos: adenina (abreviado A), citosina (C), guanina (G) y timina (T):\n",
    "\n",
    "ATGTCTTCCTCGA TGCTTCCTATGAC\n",
    "\n",
    "Para el ejemplo anterior, el resultado es CTTCCT porque que es el conjunto ordenado de bases adyacentes de mayor tamaño que se encuentra en ambas formas de vida.\n",
    "\n",
    "(Asegúrate de que has leído las preguntas frecuentes antes de plantear tu solución)"
   ]
  },
  {
   "cell_type": "markdown",
   "metadata": {},
   "source": [
    "#### Diagrama de flujos\n",
    "\n",
    "![image](biologo.png)"
   ]
  },
  {
   "cell_type": "code",
   "execution_count": null,
   "metadata": {},
   "outputs": [],
   "source": [
    "def find_all_substrings(string):\n",
    "    substrings = []\n",
    "    length = len(string)\n",
    "    for i in range(length-1, 0, -1):\n",
    "        for j in range(1, i, 1):\n",
    "            substrings.append(string[j:i])\n",
    "            substrings.append(string[j:])\n",
    "            substrings.append(string[-i:-j])\n",
    "            \n",
    "    return substrings"
   ]
  },
  {
   "cell_type": "code",
   "execution_count": null,
   "metadata": {},
   "outputs": [],
   "source": [
    "def find_longest_substring(string1, string2):\n",
    "    shorter = ''\n",
    "    longer = ''\n",
    "    if len(string1)> len(string2):\n",
    "        shorter = string2\n",
    "        longer = string1\n",
    "    else:\n",
    "        shorter = string1\n",
    "        longer = string2       \n",
    "        \n",
    "    substrings = find_all_substrings(shorter)\n",
    "    included_in_both = []\n",
    "    for s in substrings:\n",
    "        if longer.find(s) != -1:\n",
    "            included_in_both.append(s)\n",
    "    \n",
    "    longest_substring = ''\n",
    "    for subs in included_in_both:\n",
    "        if len(subs) > len(longest_substring):\n",
    "            longest_substring = subs\n",
    "            \n",
    "    return longest_substring"
   ]
  },
  {
   "cell_type": "code",
   "execution_count": null,
   "metadata": {},
   "outputs": [],
   "source": [
    "print('Introduzca la primera cadena')\n",
    "string1 = input()\n",
    "print()\n",
    "print('Introduzca la segunda cadena')\n",
    "string2 = input()\n",
    "\n",
    "longest_substring = find_longest_substring(string1, string2)\n",
    "\n",
    "\n",
    "print('Tienen en común la siguiente secuencia ADN: ' + longest_substring)\n"
   ]
  },
  {
   "cell_type": "code",
   "execution_count": null,
   "metadata": {},
   "outputs": [],
   "source": [
    "2+2"
   ]
  },
  {
   "cell_type": "code",
   "execution_count": null,
   "metadata": {},
   "outputs": [],
   "source": []
  }
 ],
 "metadata": {
  "kernelspec": {
   "display_name": "Python 3",
   "language": "python",
   "name": "python3"
  },
  "language_info": {
   "codemirror_mode": {
    "name": "ipython",
    "version": 3
   },
   "file_extension": ".py",
   "mimetype": "text/x-python",
   "name": "python",
   "nbconvert_exporter": "python",
   "pygments_lexer": "ipython3",
   "version": "3.7.6"
  }
 },
 "nbformat": 4,
 "nbformat_minor": 4
}
