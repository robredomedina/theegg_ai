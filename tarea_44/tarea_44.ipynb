{
 "cells": [
  {
   "cell_type": "markdown",
   "metadata": {},
   "source": [
    "## Tarea 4.4: Análisis del rendimiento de las aplicaciones de IA\n",
    "\n",
    "\n"
   ]
  },
  {
   "cell_type": "code",
   "execution_count": 69,
   "metadata": {},
   "outputs": [],
   "source": [
    "# Definir 2 funciones para calcular la suma del 1 a n números.\n",
    "# Una de ellas sumando uno a uno cada número,\n",
    "# y otra aplicando la formula de la suma aritmética de Gauss.\n",
    "\n",
    "import time\n",
    "import math\n",
    "\n",
    "def suma_lineal(n):\n",
    "    suma = 0\n",
    "    for i in range(0,n+1):\n",
    "        suma += i\n",
    "    return suma\n",
    "\n",
    "def suma_constante(n):\n",
    "    if n%2 == 0:\n",
    "        suma = (n+1)*(n/2)\n",
    "        return int(suma)\n",
    "    else:\n",
    "        suma = ((n+1)*((n-1)/2)) + math.ceil(n/2)\n",
    "        return int(suma)"
   ]
  },
  {
   "cell_type": "code",
   "execution_count": 77,
   "metadata": {},
   "outputs": [
    {
     "name": "stdout",
     "output_type": "stream",
     "text": [
      "Resultado con suma lineal (n = 1000): 500500     -     0.0 segundos\n",
      "Resultado con suma constante (n = 1000): 500500     -     0.0 segundos\n",
      "=========================\n",
      "Resultado con suma lineal (n = 10000): 50005000     -     0.00099 segundos\n",
      "Resultado con suma constante (n = 10000): 50005000     -     0.0 segundos\n",
      "=========================\n",
      "Resultado con suma lineal (n = 100000): 5000050000     -     0.02099 segundos\n",
      "Resultado con suma constante (n = 100000): 5000050000     -     0.0 segundos\n",
      "=========================\n",
      "Resultado con suma lineal (n = 1000000): 500000500000     -     0.142 segundos\n",
      "Resultado con suma constante (n = 1000000): 500000500000     -     0.0 segundos\n",
      "=========================\n"
     ]
    }
   ],
   "source": [
    "cantidad = 1000\n",
    "for i in range(4):\n",
    "    t0 = time.time()\n",
    "    suma1 = suma_lineal(cantidad)\n",
    "    t1 = time.time()\n",
    "    suma2 = suma_constante(cantidad)\n",
    "    t2 = time.time()\n",
    "    \n",
    "    print(\"Resultado con suma lineal (n = {}): {}     -     {} segundos\".format(cantidad, suma1, round(t1-t0, 5)))\n",
    "    print(\"Resultado con suma constante (n = {}): {}     -     {} segundos\".format(cantidad, suma2, round(t2-t1,5)))\n",
    "    print(\"=========================\")\n",
    "    cantidad *= 10"
   ]
  }
 ],
 "metadata": {
  "kernelspec": {
   "display_name": "Python 3",
   "language": "python",
   "name": "python3"
  },
  "language_info": {
   "codemirror_mode": {
    "name": "ipython",
    "version": 3
   },
   "file_extension": ".py",
   "mimetype": "text/x-python",
   "name": "python",
   "nbconvert_exporter": "python",
   "pygments_lexer": "ipython3",
   "version": "3.7.6"
  }
 },
 "nbformat": 4,
 "nbformat_minor": 4
}
