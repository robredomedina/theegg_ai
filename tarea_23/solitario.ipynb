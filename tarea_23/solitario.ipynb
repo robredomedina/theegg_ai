{
 "cells": [
  {
   "cell_type": "code",
   "execution_count": 1,
   "metadata": {},
   "outputs": [],
   "source": [
    "import itertools\n",
    "import random"
   ]
  },
  {
   "cell_type": "code",
   "execution_count": 2,
   "metadata": {},
   "outputs": [],
   "source": [
    "deck = list(itertools.product(range(1,14), ['Clubs'])) \n",
    "deck += list(itertools.product(range(1,14), ['Diamonds'])) \n",
    "deck += list(itertools.product(range(1,14), ['Hearts'])) \n",
    "deck += list(itertools.product(range(1,14), ['Spades'])) \n"
   ]
  },
  {
   "cell_type": "code",
   "execution_count": 3,
   "metadata": {},
   "outputs": [],
   "source": [
    "deck.append('Comodin A')\n",
    "deck.append('Comodin B')\n"
   ]
  },
  {
   "cell_type": "code",
   "execution_count": 4,
   "metadata": {},
   "outputs": [
    {
     "name": "stdout",
     "output_type": "stream",
     "text": [
      "[(1, 'Clubs'), (2, 'Clubs'), (3, 'Clubs'), (4, 'Clubs'), (5, 'Clubs'), (6, 'Clubs'), (7, 'Clubs'), (8, 'Clubs'), (9, 'Clubs'), (10, 'Clubs'), (11, 'Clubs'), (12, 'Clubs'), (13, 'Clubs'), (1, 'Diamonds'), (2, 'Diamonds'), (3, 'Diamonds'), (4, 'Diamonds'), (5, 'Diamonds'), (6, 'Diamonds'), (7, 'Diamonds'), (8, 'Diamonds'), (9, 'Diamonds'), (10, 'Diamonds'), (11, 'Diamonds'), (12, 'Diamonds'), (13, 'Diamonds'), (1, 'Hearts'), (2, 'Hearts'), (3, 'Hearts'), (4, 'Hearts'), (5, 'Hearts'), (6, 'Hearts'), (7, 'Hearts'), (8, 'Hearts'), (9, 'Hearts'), (10, 'Hearts'), (11, 'Hearts'), (12, 'Hearts'), (13, 'Hearts'), (1, 'Spades'), (2, 'Spades'), (3, 'Spades'), (4, 'Spades'), (5, 'Spades'), (6, 'Spades'), (7, 'Spades'), (8, 'Spades'), (9, 'Spades'), (10, 'Spades'), (11, 'Spades'), (12, 'Spades'), (13, 'Spades'), 'Comodin A', 'Comodin B']\n"
     ]
    }
   ],
   "source": [
    "print(deck)"
   ]
  },
  {
   "cell_type": "code",
   "execution_count": 5,
   "metadata": {},
   "outputs": [],
   "source": [
    "values = [i for i in range(1,54)] + [53]"
   ]
  },
  {
   "cell_type": "code",
   "execution_count": 6,
   "metadata": {},
   "outputs": [],
   "source": [
    "values_table = dict(zip(deck, values))"
   ]
  },
  {
   "cell_type": "code",
   "execution_count": 7,
   "metadata": {},
   "outputs": [
    {
     "name": "stdout",
     "output_type": "stream",
     "text": [
      "{(1, 'Clubs'): 1, (2, 'Clubs'): 2, (3, 'Clubs'): 3, (4, 'Clubs'): 4, (5, 'Clubs'): 5, (6, 'Clubs'): 6, (7, 'Clubs'): 7, (8, 'Clubs'): 8, (9, 'Clubs'): 9, (10, 'Clubs'): 10, (11, 'Clubs'): 11, (12, 'Clubs'): 12, (13, 'Clubs'): 13, (1, 'Diamonds'): 14, (2, 'Diamonds'): 15, (3, 'Diamonds'): 16, (4, 'Diamonds'): 17, (5, 'Diamonds'): 18, (6, 'Diamonds'): 19, (7, 'Diamonds'): 20, (8, 'Diamonds'): 21, (9, 'Diamonds'): 22, (10, 'Diamonds'): 23, (11, 'Diamonds'): 24, (12, 'Diamonds'): 25, (13, 'Diamonds'): 26, (1, 'Hearts'): 27, (2, 'Hearts'): 28, (3, 'Hearts'): 29, (4, 'Hearts'): 30, (5, 'Hearts'): 31, (6, 'Hearts'): 32, (7, 'Hearts'): 33, (8, 'Hearts'): 34, (9, 'Hearts'): 35, (10, 'Hearts'): 36, (11, 'Hearts'): 37, (12, 'Hearts'): 38, (13, 'Hearts'): 39, (1, 'Spades'): 40, (2, 'Spades'): 41, (3, 'Spades'): 42, (4, 'Spades'): 43, (5, 'Spades'): 44, (6, 'Spades'): 45, (7, 'Spades'): 46, (8, 'Spades'): 47, (9, 'Spades'): 48, (10, 'Spades'): 49, (11, 'Spades'): 50, (12, 'Spades'): 51, (13, 'Spades'): 52, 'Comodin A': 53, 'Comodin B': 53}\n"
     ]
    }
   ],
   "source": [
    "print(values_table)"
   ]
  },
  {
   "cell_type": "code",
   "execution_count": 8,
   "metadata": {},
   "outputs": [],
   "source": [
    "random.shuffle(deck)\n",
    "ristra = []\n",
    "indexA = 0\n",
    "indexB = 0\n"
   ]
  },
  {
   "cell_type": "code",
   "execution_count": 9,
   "metadata": {},
   "outputs": [
    {
     "data": {
      "text/plain": [
       "[(11, 'Spades'),\n",
       " (2, 'Clubs'),\n",
       " (13, 'Spades'),\n",
       " (5, 'Diamonds'),\n",
       " (7, 'Clubs'),\n",
       " (5, 'Hearts'),\n",
       " 'Comodin A',\n",
       " (12, 'Diamonds'),\n",
       " (8, 'Diamonds'),\n",
       " (10, 'Hearts'),\n",
       " (6, 'Hearts'),\n",
       " (2, 'Hearts'),\n",
       " (1, 'Spades'),\n",
       " (8, 'Spades'),\n",
       " (6, 'Clubs'),\n",
       " (10, 'Clubs'),\n",
       " (12, 'Spades'),\n",
       " (7, 'Diamonds'),\n",
       " (9, 'Clubs'),\n",
       " (10, 'Spades'),\n",
       " (1, 'Clubs'),\n",
       " (4, 'Hearts'),\n",
       " (7, 'Spades'),\n",
       " 'Comodin B',\n",
       " (13, 'Clubs'),\n",
       " (12, 'Clubs'),\n",
       " (3, 'Hearts'),\n",
       " (8, 'Clubs'),\n",
       " (2, 'Diamonds'),\n",
       " (13, 'Hearts'),\n",
       " (2, 'Spades'),\n",
       " (11, 'Diamonds'),\n",
       " (8, 'Hearts'),\n",
       " (3, 'Diamonds'),\n",
       " (4, 'Diamonds'),\n",
       " (12, 'Hearts'),\n",
       " (13, 'Diamonds'),\n",
       " (1, 'Diamonds'),\n",
       " (1, 'Hearts'),\n",
       " (11, 'Hearts'),\n",
       " (5, 'Clubs'),\n",
       " (9, 'Diamonds'),\n",
       " (9, 'Hearts'),\n",
       " (9, 'Spades'),\n",
       " (4, 'Clubs'),\n",
       " (3, 'Spades'),\n",
       " (11, 'Clubs'),\n",
       " (6, 'Diamonds'),\n",
       " (5, 'Spades'),\n",
       " (4, 'Spades'),\n",
       " (7, 'Hearts'),\n",
       " (10, 'Diamonds'),\n",
       " (6, 'Spades'),\n",
       " (3, 'Clubs')]"
      ]
     },
     "execution_count": 9,
     "metadata": {},
     "output_type": "execute_result"
    }
   ],
   "source": [
    "deck"
   ]
  },
  {
   "cell_type": "code",
   "execution_count": 10,
   "metadata": {},
   "outputs": [],
   "source": [
    "def moveA(deck):\n",
    "\n",
    "    indexA = deck.index('Comodin A')\n",
    "    if indexA == len(deck) -1:\n",
    "        out = deck.pop()\n",
    "        deck.insert(0, out)\n",
    "    else:\n",
    "        temp = deck[indexA]\n",
    "        deck[indexA] = deck[indexA + 1]\n",
    "        deck[indexA + 1] = temp\n",
    "    return deck"
   ]
  },
  {
   "cell_type": "code",
   "execution_count": 11,
   "metadata": {},
   "outputs": [],
   "source": [
    "def moveB(deck):\n",
    "\n",
    "    indexB = deck.index('Comodin B')\n",
    "    if indexB == len(deck) - 1:\n",
    "        out = deck.pop()\n",
    "        deck.insert(2, out)\n",
    "    elif indexB == len(deck) -2:\n",
    "        out = deck.pop(-2)\n",
    "        deck.insert(1, out)\n",
    "    else:\n",
    "        temp = deck[indexB]\n",
    "        deck[indexB] = deck[indexB + 1]\n",
    "        deck[indexB + 1] = deck[indexB +2]\n",
    "        deck[indexB + 2] = temp\n",
    "\n",
    "    return deck"
   ]
  },
  {
   "cell_type": "code",
   "execution_count": 12,
   "metadata": {},
   "outputs": [],
   "source": [
    "def cortarEn3(deck):\n",
    "\n",
    "     index1 = deck.index('Comodin A')\n",
    "     index2 = deck.index('Comodin B')\n",
    "\n",
    "     if index1 < index2:\n",
    "         temp1 = deck[:index1]\n",
    "         temp2 = deck[index2+1:]\n",
    "         del deck[:index1]\n",
    "         del deck[-len(temp2):]\n",
    "         deck = temp2 + deck + temp1\n",
    "     else:\n",
    "         temp1 = deck[:index2]\n",
    "         temp2 = deck[index1+1:]\n",
    "         del deck[:index2]\n",
    "         del deck[-len(temp2):]\n",
    "         deck = temp2 + deck + temp1\n",
    "     return deck"
   ]
  },
  {
   "cell_type": "code",
   "execution_count": 21,
   "metadata": {},
   "outputs": [],
   "source": [
    "def contar_primera(deck):\n",
    "    print(len(deck))\n",
    "    first_card = deck[0]\n",
    "    count = values_table.get(first_card)\n",
    "    print(deck[count-1])\n",
    "    \n",
    "    if (deck[count-1] != ('Comodin A'))  &  (deck[count-1] != ('Comodin B')):\n",
    "        ristra.append(deck[count-1])\n",
    "    \n",
    "    return"
   ]
  },
  {
   "cell_type": "code",
   "execution_count": 24,
   "metadata": {},
   "outputs": [
    {
     "data": {
      "text/plain": [
       "[(6, 'Spades'),\n",
       " (3, 'Clubs'),\n",
       " 'Comodin A',\n",
       " (8, 'Diamonds'),\n",
       " (10, 'Hearts'),\n",
       " (6, 'Hearts'),\n",
       " (2, 'Hearts'),\n",
       " (1, 'Spades'),\n",
       " (8, 'Spades'),\n",
       " (6, 'Clubs'),\n",
       " (10, 'Clubs'),\n",
       " (12, 'Spades'),\n",
       " (7, 'Diamonds'),\n",
       " (9, 'Clubs'),\n",
       " (10, 'Spades'),\n",
       " (1, 'Clubs'),\n",
       " (4, 'Hearts'),\n",
       " (7, 'Spades'),\n",
       " (13, 'Clubs'),\n",
       " (12, 'Clubs'),\n",
       " 'Comodin B',\n",
       " (11, 'Spades'),\n",
       " (2, 'Clubs'),\n",
       " (13, 'Spades'),\n",
       " (5, 'Diamonds'),\n",
       " (7, 'Clubs'),\n",
       " (5, 'Hearts'),\n",
       " (3, 'Hearts'),\n",
       " (8, 'Clubs'),\n",
       " (2, 'Diamonds'),\n",
       " (13, 'Hearts'),\n",
       " (2, 'Spades'),\n",
       " (11, 'Diamonds'),\n",
       " (8, 'Hearts'),\n",
       " (3, 'Diamonds'),\n",
       " (4, 'Diamonds'),\n",
       " (12, 'Hearts'),\n",
       " (13, 'Diamonds'),\n",
       " (1, 'Diamonds'),\n",
       " (1, 'Hearts'),\n",
       " (11, 'Hearts'),\n",
       " (5, 'Clubs'),\n",
       " (9, 'Diamonds'),\n",
       " (9, 'Hearts'),\n",
       " (9, 'Spades'),\n",
       " (4, 'Clubs'),\n",
       " (3, 'Spades'),\n",
       " (11, 'Clubs'),\n",
       " (6, 'Diamonds'),\n",
       " (5, 'Spades'),\n",
       " (4, 'Spades'),\n",
       " (7, 'Hearts'),\n",
       " (10, 'Diamonds'),\n",
       " (12, 'Diamonds')]"
      ]
     },
     "execution_count": 24,
     "metadata": {},
     "output_type": "execute_result"
    }
   ],
   "source": [
    "deck"
   ]
  },
  {
   "cell_type": "code",
   "execution_count": 17,
   "metadata": {},
   "outputs": [],
   "source": [
    "deck = moveB(deck)"
   ]
  },
  {
   "cell_type": "code",
   "execution_count": 19,
   "metadata": {},
   "outputs": [],
   "source": [
    "deck = cortarEn3(deck)"
   ]
  },
  {
   "cell_type": "code",
   "execution_count": 23,
   "metadata": {},
   "outputs": [],
   "source": [
    "deck = contar_ultima(deck)"
   ]
  },
  {
   "cell_type": "code",
   "execution_count": null,
   "metadata": {},
   "outputs": [],
   "source": []
  },
  {
   "cell_type": "code",
   "execution_count": 22,
   "metadata": {},
   "outputs": [],
   "source": [
    "def contar_ultima(deck):\n",
    "\n",
    "    last_card = deck[-1]\n",
    "    cut_after = values_table.get(last_card)\n",
    "    temp1 = deck[:cut_after+1]\n",
    "    temp2 = deck[cut_after+1:-1]\n",
    "    deck = temp2 + temp1 + [last_card]\n",
    "\n",
    "    return deck"
   ]
  },
  {
   "cell_type": "code",
   "execution_count": 557,
   "metadata": {},
   "outputs": [
    {
     "data": {
      "text/plain": [
       "[(8, 'Spades'),\n",
       " (4, 'Clubs'),\n",
       " (8, 'Clubs'),\n",
       " (10, 'Diamonds'),\n",
       " (9, 'Diamonds'),\n",
       " (7, 'Spades'),\n",
       " (3, 'Diamonds'),\n",
       " (4, 'Diamonds'),\n",
       " (5, 'Clubs'),\n",
       " (12, 'Spades'),\n",
       " (1, 'Spades'),\n",
       " (2, 'Diamonds'),\n",
       " (6, 'Clubs'),\n",
       " (8, 'Diamonds')]"
      ]
     },
     "execution_count": 557,
     "metadata": {},
     "output_type": "execute_result"
    }
   ],
   "source": [
    "ristra"
   ]
  },
  {
   "cell_type": "code",
   "execution_count": null,
   "metadata": {},
   "outputs": [],
   "source": [
    "\n",
    "contar_primera(deck)"
   ]
  }
 ],
 "metadata": {
  "kernelspec": {
   "display_name": "Python 3",
   "language": "python",
   "name": "python3"
  },
  "language_info": {
   "codemirror_mode": {
    "name": "ipython",
    "version": 3
   },
   "file_extension": ".py",
   "mimetype": "text/x-python",
   "name": "python",
   "nbconvert_exporter": "python",
   "pygments_lexer": "ipython3",
   "version": "3.7.6"
  }
 },
 "nbformat": 4,
 "nbformat_minor": 4
}
